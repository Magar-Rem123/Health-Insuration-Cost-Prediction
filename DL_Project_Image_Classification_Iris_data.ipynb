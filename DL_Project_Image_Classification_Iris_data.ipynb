{
  "nbformat": 4,
  "nbformat_minor": 0,
  "metadata": {
    "colab": {
      "provenance": [],
      "gpuType": "T4",
      "mount_file_id": "1X1A_ppf0PhxfmUjHMoUzN71_zEmi3Q3S",
      "authorship_tag": "ABX9TyO/C+qd0OQ8ZOyoBysnTKMS",
      "include_colab_link": true
    },
    "kernelspec": {
      "name": "python3",
      "display_name": "Python 3"
    },
    "language_info": {
      "name": "python"
    },
    "accelerator": "GPU"
  },
  "cells": [
    {
      "cell_type": "markdown",
      "metadata": {
        "id": "view-in-github",
        "colab_type": "text"
      },
      "source": [
        "<a href=\"https://colab.research.google.com/github/Magar-Rem123/Health-Insuration-Cost-Prediction/blob/main/DL_Project_Image_Classification_Iris_data.ipynb\" target=\"_parent\"><img src=\"https://colab.research.google.com/assets/colab-badge.svg\" alt=\"Open In Colab\"/></a>"
      ]
    },
    {
      "cell_type": "markdown",
      "source": [
        "#**Deep Learning Project**\n",
        "\n",
        "##**Image Classification**\n",
        "\n",
        "###**Work on Iris Dataset**"
      ],
      "metadata": {
        "id": "UG4yuI90PUDe"
      }
    },
    {
      "cell_type": "markdown",
      "source": [
        "#**Project Objectives**\n",
        "**From the given below information predict the class of iris flower**\n",
        "\n",
        "\n",
        "###**Given Information**\n",
        ". Attribute Information:\n",
        "\n",
        "   1. sepal length in cm\n",
        "\n",
        "   2. sepal width in cm\n",
        "\n",
        "   3. petal length in cm\n",
        "\n",
        "   4. petal width in cm\n",
        "\n",
        "   5. class:\n",
        "\n",
        "      -- Iris Setosa\n",
        "\n",
        "      -- Iris Versicolour\n",
        "      \n",
        "      -- Iris Virginica\n",
        "\n",
        ". Missing Attribute Values: None\n",
        "\n",
        "Summary Statistics:\n",
        "\t         Min  Max   Mean    SD   Class Correlation\n",
        "\n",
        "   sepal length: 4.3  7.9   5.84  0.83    0.7826   \n",
        "\n",
        "    sepal width: 2.0  4.4   3.05  0.43   -0.4194\n",
        "\n",
        "   petal length: 1.0  6.9   3.76  1.76    0.9490  (high!)\n",
        "\n",
        "    petal width: 0.1  2.5   1.20  0.76    0.9565  (high!)"
      ],
      "metadata": {
        "id": "hA0xYI8OPi-V"
      }
    },
    {
      "cell_type": "markdown",
      "source": [
        "#**Essentail Libraries**"
      ],
      "metadata": {
        "id": "SQradWChQg2F"
      }
    },
    {
      "cell_type": "code",
      "source": [
        "# Importing Essentaial Librares\n",
        "import numpy as np\n",
        "import pandas as pd\n",
        "import matplotlib.pyplot as plt\n",
        "import seaborn as sns\n",
        "from keras.models import Model\n",
        "from keras.layers import Input, Dense\n",
        "from tensorflow.keras.utils import to_categorical\n",
        "\n"
      ],
      "metadata": {
        "id": "wbpY-lOKQmUb"
      },
      "execution_count": 1,
      "outputs": []
    },
    {
      "cell_type": "markdown",
      "source": [
        "#**Load the DataSet**"
      ],
      "metadata": {
        "id": "yQLmIFSgRa-J"
      }
    },
    {
      "cell_type": "code",
      "source": [
        "# Data gather\n",
        "data = pd.read_csv('/content/drive/MyDrive/Data_ML/IRIS.csv').values # to convert numpy array by values\n",
        "#data = pd.read_csv('/content/drive/MyDrive/Data_ML/IRIS.csv')\n",
        "# data.head()\n",
        "#print(data)\n",
        "print(len(data))"
      ],
      "metadata": {
        "colab": {
          "base_uri": "https://localhost:8080/"
        },
        "id": "IFMskelqRfvQ",
        "outputId": "9e16cd12-e0e1-4a5b-83e9-b310e47bf6d6"
      },
      "execution_count": 2,
      "outputs": [
        {
          "output_type": "stream",
          "name": "stdout",
          "text": [
            "150\n"
          ]
        }
      ]
    },
    {
      "cell_type": "code",
      "source": [
        "#from google.colab import drive\n",
        "#drive.mount('/content/drive')"
      ],
      "metadata": {
        "id": "TWwggeIYt543"
      },
      "execution_count": 3,
      "outputs": []
    },
    {
      "cell_type": "markdown",
      "source": [
        "#**Suffle the data from 0 t0 149**"
      ],
      "metadata": {
        "id": "vMExPpF5SnUN"
      }
    },
    {
      "cell_type": "code",
      "source": [
        "# Data suffleing\n",
        "rand = np.arange(149)\n",
        "np.random.shuffle(rand)"
      ],
      "metadata": {
        "id": "UsZQi7HjRzo2"
      },
      "execution_count": 4,
      "outputs": []
    },
    {
      "cell_type": "code",
      "source": [
        "# initialize unique integer and make a compy of data\n",
        "c = 0\n",
        "copy = data.copy()"
      ],
      "metadata": {
        "id": "k_xLjlE_S33y"
      },
      "execution_count": 5,
      "outputs": []
    },
    {
      "cell_type": "code",
      "source": [
        "# Change the data at c position this is intially 0\n",
        "for i in rand:\n",
        "  data[c] = copy[i]\n",
        "  c = c+1\n",
        "print(data)"
      ],
      "metadata": {
        "colab": {
          "base_uri": "https://localhost:8080/"
        },
        "id": "aRgFX63eTFxy",
        "outputId": "98f1638f-103c-4f85-a133-19750e664bc9"
      },
      "execution_count": 6,
      "outputs": [
        {
          "output_type": "stream",
          "name": "stdout",
          "text": [
            "[[6.3 2.3 4.4 1.3 'Iris-versicolor']\n",
            " [4.8 3.0 1.4 0.3 'Iris-setosa']\n",
            " [7.2 3.2 6.0 1.8 'Iris-virginica']\n",
            " [6.4 2.9 4.3 1.3 'Iris-versicolor']\n",
            " [5.1 3.7 1.5 0.4 'Iris-setosa']\n",
            " [5.1 3.8 1.5 0.3 'Iris-setosa']\n",
            " [5.8 2.6 4.0 1.2 'Iris-versicolor']\n",
            " [6.5 2.8 4.6 1.5 'Iris-versicolor']\n",
            " [5.1 3.8 1.6 0.2 'Iris-setosa']\n",
            " [6.0 2.2 5.0 1.5 'Iris-virginica']\n",
            " [6.2 2.9 4.3 1.3 'Iris-versicolor']\n",
            " [6.1 2.6 5.6 1.4 'Iris-virginica']\n",
            " [5.5 3.5 1.3 0.2 'Iris-setosa']\n",
            " [7.0 3.2 4.7 1.4 'Iris-versicolor']\n",
            " [5.2 4.1 1.5 0.1 'Iris-setosa']\n",
            " [5.7 2.8 4.5 1.3 'Iris-versicolor']\n",
            " [5.5 2.4 3.8 1.1 'Iris-versicolor']\n",
            " [4.6 3.1 1.5 0.2 'Iris-setosa']\n",
            " [5.4 3.0 4.5 1.5 'Iris-versicolor']\n",
            " [6.3 2.5 5.0 1.9 'Iris-virginica']\n",
            " [4.7 3.2 1.6 0.2 'Iris-setosa']\n",
            " [5.4 3.7 1.5 0.2 'Iris-setosa']\n",
            " [6.0 3.4 4.5 1.6 'Iris-versicolor']\n",
            " [6.3 2.5 4.9 1.5 'Iris-versicolor']\n",
            " [6.3 2.8 5.1 1.5 'Iris-virginica']\n",
            " [7.3 2.9 6.3 1.8 'Iris-virginica']\n",
            " [4.6 3.4 1.4 0.3 'Iris-setosa']\n",
            " [5.4 3.9 1.3 0.4 'Iris-setosa']\n",
            " [4.7 3.2 1.3 0.2 'Iris-setosa']\n",
            " [6.2 2.8 4.8 1.8 'Iris-virginica']\n",
            " [6.0 2.9 4.5 1.5 'Iris-versicolor']\n",
            " [5.5 4.2 1.4 0.2 'Iris-setosa']\n",
            " [5.6 2.7 4.2 1.3 'Iris-versicolor']\n",
            " [5.0 3.5 1.6 0.6 'Iris-setosa']\n",
            " [6.3 2.9 5.6 1.8 'Iris-virginica']\n",
            " [4.9 2.5 4.5 1.7 'Iris-virginica']\n",
            " [6.7 3.3 5.7 2.1 'Iris-virginica']\n",
            " [5.6 2.9 3.6 1.3 'Iris-versicolor']\n",
            " [5.1 3.4 1.5 0.2 'Iris-setosa']\n",
            " [6.9 3.1 4.9 1.5 'Iris-versicolor']\n",
            " [6.1 3.0 4.6 1.4 'Iris-versicolor']\n",
            " [5.0 3.3 1.4 0.2 'Iris-setosa']\n",
            " [5.0 3.4 1.5 0.2 'Iris-setosa']\n",
            " [6.4 2.7 5.3 1.9 'Iris-virginica']\n",
            " [4.9 2.4 3.3 1.0 'Iris-versicolor']\n",
            " [5.0 3.6 1.4 0.2 'Iris-setosa']\n",
            " [5.1 3.8 1.9 0.4 'Iris-setosa']\n",
            " [7.4 2.8 6.1 1.9 'Iris-virginica']\n",
            " [5.0 3.0 1.6 0.2 'Iris-setosa']\n",
            " [6.0 2.2 4.0 1.0 'Iris-versicolor']\n",
            " [6.4 3.2 4.5 1.5 'Iris-versicolor']\n",
            " [6.8 2.8 4.8 1.4 'Iris-versicolor']\n",
            " [4.8 3.4 1.6 0.2 'Iris-setosa']\n",
            " [6.9 3.1 5.4 2.1 'Iris-virginica']\n",
            " [6.4 2.8 5.6 2.2 'Iris-virginica']\n",
            " [5.3 3.7 1.5 0.2 'Iris-setosa']\n",
            " [5.2 3.4 1.4 0.2 'Iris-setosa']\n",
            " [5.8 4.0 1.2 0.2 'Iris-setosa']\n",
            " [5.7 3.8 1.7 0.3 'Iris-setosa']\n",
            " [5.7 3.0 4.2 1.2 'Iris-versicolor']\n",
            " [4.4 2.9 1.4 0.2 'Iris-setosa']\n",
            " [4.3 3.0 1.1 0.1 'Iris-setosa']\n",
            " [5.5 2.5 4.0 1.3 'Iris-versicolor']\n",
            " [6.7 3.0 5.0 1.7 'Iris-versicolor']\n",
            " [5.0 2.3 3.3 1.0 'Iris-versicolor']\n",
            " [5.8 2.7 4.1 1.0 'Iris-versicolor']\n",
            " [5.8 2.7 5.1 1.9 'Iris-virginica']\n",
            " [7.7 3.0 6.1 2.3 'Iris-virginica']\n",
            " [5.4 3.4 1.7 0.2 'Iris-setosa']\n",
            " [6.7 2.5 5.8 1.8 'Iris-virginica']\n",
            " [6.1 2.8 4.0 1.3 'Iris-versicolor']\n",
            " [6.0 2.7 5.1 1.6 'Iris-versicolor']\n",
            " [7.2 3.0 5.8 1.6 'Iris-virginica']\n",
            " [6.4 3.1 5.5 1.8 'Iris-virginica']\n",
            " [5.2 2.7 3.9 1.4 'Iris-versicolor']\n",
            " [6.7 3.3 5.7 2.5 'Iris-virginica']\n",
            " [5.7 2.8 4.1 1.3 'Iris-versicolor']\n",
            " [4.5 2.3 1.3 0.3 'Iris-setosa']\n",
            " [6.7 3.1 5.6 2.4 'Iris-virginica']\n",
            " [5.7 2.5 5.0 2.0 'Iris-virginica']\n",
            " [6.3 3.3 4.7 1.6 'Iris-versicolor']\n",
            " [4.9 3.1 1.5 0.1 'Iris-setosa']\n",
            " [5.0 3.4 1.6 0.4 'Iris-setosa']\n",
            " [6.8 3.2 5.9 2.3 'Iris-virginica']\n",
            " [6.5 3.0 5.5 1.8 'Iris-virginica']\n",
            " [4.8 3.4 1.9 0.2 'Iris-setosa']\n",
            " [5.7 4.4 1.5 0.4 'Iris-setosa']\n",
            " [6.3 2.7 4.9 1.8 'Iris-virginica']\n",
            " [4.4 3.0 1.3 0.2 'Iris-setosa']\n",
            " [6.4 3.2 5.3 2.3 'Iris-virginica']\n",
            " [7.1 3.0 5.9 2.1 'Iris-virginica']\n",
            " [6.7 3.0 5.2 2.3 'Iris-virginica']\n",
            " [7.9 3.8 6.4 2.0 'Iris-virginica']\n",
            " [6.5 3.0 5.8 2.2 'Iris-virginica']\n",
            " [4.9 3.1 1.5 0.1 'Iris-setosa']\n",
            " [5.1 3.3 1.7 0.5 'Iris-setosa']\n",
            " [5.1 3.5 1.4 0.3 'Iris-setosa']\n",
            " [5.1 3.5 1.4 0.2 'Iris-setosa']\n",
            " [4.9 3.1 1.5 0.1 'Iris-setosa']\n",
            " [7.2 3.6 6.1 2.5 'Iris-virginica']\n",
            " [4.6 3.2 1.4 0.2 'Iris-setosa']\n",
            " [6.2 3.4 5.4 2.3 'Iris-virginica']\n",
            " [6.9 3.2 5.7 2.3 'Iris-virginica']\n",
            " [5.6 3.0 4.5 1.5 'Iris-versicolor']\n",
            " [7.7 2.8 6.7 2.0 'Iris-virginica']\n",
            " [6.4 2.8 5.6 2.1 'Iris-virginica']\n",
            " [5.6 3.0 4.1 1.3 'Iris-versicolor']\n",
            " [5.7 2.9 4.2 1.3 'Iris-versicolor']\n",
            " [6.1 2.9 4.7 1.4 'Iris-versicolor']\n",
            " [5.4 3.9 1.7 0.4 'Iris-setosa']\n",
            " [5.5 2.3 4.0 1.3 'Iris-versicolor']\n",
            " [5.2 3.5 1.5 0.2 'Iris-setosa']\n",
            " [6.6 3.0 4.4 1.4 'Iris-versicolor']\n",
            " [5.1 2.5 3.0 1.1 'Iris-versicolor']\n",
            " [6.0 3.0 4.8 1.8 'Iris-virginica']\n",
            " [4.6 3.6 1.0 0.2 'Iris-setosa']\n",
            " [4.8 3.1 1.6 0.2 'Iris-setosa']\n",
            " [4.4 3.2 1.3 0.2 'Iris-setosa']\n",
            " [7.6 3.0 6.6 2.1 'Iris-virginica']\n",
            " [6.8 3.0 5.5 2.1 'Iris-virginica']\n",
            " [6.1 3.0 4.9 1.8 'Iris-virginica']\n",
            " [7.7 2.6 6.9 2.3 'Iris-virginica']\n",
            " [5.8 2.7 3.9 1.2 'Iris-versicolor']\n",
            " [6.7 3.1 4.7 1.5 'Iris-versicolor']\n",
            " [5.5 2.4 3.7 1.0 'Iris-versicolor']\n",
            " [5.8 2.7 5.1 1.9 'Iris-virginica']\n",
            " [5.0 2.0 3.5 1.0 'Iris-versicolor']\n",
            " [5.8 2.8 5.1 2.4 'Iris-virginica']\n",
            " [5.0 3.2 1.2 0.2 'Iris-setosa']\n",
            " [6.2 2.2 4.5 1.5 'Iris-versicolor']\n",
            " [5.6 2.5 3.9 1.1 'Iris-versicolor']\n",
            " [4.9 3.0 1.4 0.2 'Iris-setosa']\n",
            " [4.8 3.0 1.4 0.1 'Iris-setosa']\n",
            " [6.5 3.2 5.1 2.0 'Iris-virginica']\n",
            " [5.4 3.4 1.5 0.4 'Iris-setosa']\n",
            " [6.9 3.1 5.1 2.3 'Iris-virginica']\n",
            " [6.7 3.1 4.4 1.4 'Iris-versicolor']\n",
            " [6.6 2.9 4.6 1.3 'Iris-versicolor']\n",
            " [5.9 3.2 4.8 1.8 'Iris-versicolor']\n",
            " [5.6 2.8 4.9 2.0 'Iris-virginica']\n",
            " [5.0 3.5 1.3 0.3 'Iris-setosa']\n",
            " [5.7 2.6 3.5 1.0 'Iris-versicolor']\n",
            " [7.7 3.8 6.7 2.2 'Iris-virginica']\n",
            " [6.3 3.4 5.6 2.4 'Iris-virginica']\n",
            " [5.5 2.6 4.4 1.2 'Iris-versicolor']\n",
            " [5.9 3.0 4.2 1.5 'Iris-versicolor']\n",
            " [6.3 3.3 6.0 2.5 'Iris-virginica']\n",
            " [6.1 2.8 4.7 1.2 'Iris-versicolor']\n",
            " [6.5 3.0 5.2 2.0 'Iris-virginica']\n",
            " [5.9 3.0 5.1 1.8 'Iris-virginica']]\n"
          ]
        }
      ]
    },
    {
      "cell_type": "markdown",
      "source": [
        "#**Input and Output of data**"
      ],
      "metadata": {
        "id": "CKcaglLzT-pb"
      }
    },
    {
      "cell_type": "code",
      "source": [
        "# input and output\n",
        "X = data[:,:4] # since there is 5 column\n",
        "y = data[:,4]"
      ],
      "metadata": {
        "id": "HyU9IZldTYq7"
      },
      "execution_count": 7,
      "outputs": []
    },
    {
      "cell_type": "code",
      "source": [
        "# see the shape\n",
        "print(X.shape)\n",
        "print(y.shape)"
      ],
      "metadata": {
        "colab": {
          "base_uri": "https://localhost:8080/"
        },
        "id": "D1m7IrgBUMU-",
        "outputId": "c35d71fa-5d9f-416b-9aae-b2b43fc63a19"
      },
      "execution_count": 8,
      "outputs": [
        {
          "output_type": "stream",
          "name": "stdout",
          "text": [
            "(150, 4)\n",
            "(150,)\n"
          ]
        }
      ]
    },
    {
      "cell_type": "code",
      "source": [
        "# Label for output i.e class\n",
        "labels = {} # to store unique class\n",
        "cnt = 0 # counter flag variable\n",
        "for i in y:\n",
        "  if i not in labels:\n",
        "    labels[i] = cnt\n",
        "    cnt = cnt +1\n",
        "print('='*50)\n",
        "print(labels)\n"
      ],
      "metadata": {
        "colab": {
          "base_uri": "https://localhost:8080/"
        },
        "id": "78VFx174US6S",
        "outputId": "b64080f5-68d5-4ada-b5e9-e94f8f128dba"
      },
      "execution_count": 9,
      "outputs": [
        {
          "output_type": "stream",
          "name": "stdout",
          "text": [
            "==================================================\n",
            "{'Iris-versicolor': 0, 'Iris-setosa': 1, 'Iris-virginica': 2}\n"
          ]
        }
      ]
    },
    {
      "cell_type": "code",
      "source": [
        "# Replacin with the unique integer in labels to string\n",
        "for i in range(y.shape[0]):\n",
        "  y[i] = labels[y[i]]\n",
        "y = to_categorical(y)"
      ],
      "metadata": {
        "id": "SgLPTygcVdzt"
      },
      "execution_count": 10,
      "outputs": []
    },
    {
      "cell_type": "code",
      "source": [
        "# Data prepration for ml algo\n",
        "X = np.array(X,dtype = 'float')\n",
        "y = np.array(y,dtype = 'float')\n",
        "print(X.shape)\n",
        "print(y.shape)"
      ],
      "metadata": {
        "colab": {
          "base_uri": "https://localhost:8080/"
        },
        "id": "_qgqC2JHWENV",
        "outputId": "51713c69-fc2b-4567-9095-b4b42d8c3197"
      },
      "execution_count": 11,
      "outputs": [
        {
          "output_type": "stream",
          "name": "stdout",
          "text": [
            "(150, 4)\n",
            "(150, 3)\n"
          ]
        }
      ]
    },
    {
      "cell_type": "code",
      "source": [
        "# Now first input layer of our newral network\n",
        "inp = Input(shape=(4))\n",
        "x = Dense(32,activation = 'relu')(inp) # middle layer connected to the input layer\n",
        "op = Dense(3,activation = 'softmax')(x)"
      ],
      "metadata": {
        "id": "fmMJSvgyWEFR"
      },
      "execution_count": 12,
      "outputs": []
    },
    {
      "cell_type": "code",
      "source": [
        "# Model building\n",
        "model = Model(inputs = inp,outputs = op)"
      ],
      "metadata": {
        "id": "TbEj4Fe9XX5x"
      },
      "execution_count": 13,
      "outputs": []
    },
    {
      "cell_type": "code",
      "source": [
        "# Bind or compilation of our model\n",
        "model.compile(optimizer = 'rmsprop',loss = 'categorical_crossentropy',metrics = ['acc'])"
      ],
      "metadata": {
        "id": "O-XHRF5mXkk0"
      },
      "execution_count": 14,
      "outputs": []
    },
    {
      "cell_type": "code",
      "source": [
        "# Fit our model\n",
        "model.fit(X[:,0:140],y[:,0:140],epochs = 50)"
      ],
      "metadata": {
        "colab": {
          "base_uri": "https://localhost:8080/"
        },
        "id": "QSJxDvjtYEmN",
        "outputId": "a6fe608a-347e-4dfd-fef8-dec59b373445"
      },
      "execution_count": 15,
      "outputs": [
        {
          "output_type": "stream",
          "name": "stdout",
          "text": [
            "Epoch 1/50\n",
            "5/5 [==============================] - 5s 7ms/step - loss: 1.4085 - acc: 0.3333\n",
            "Epoch 2/50\n",
            "5/5 [==============================] - 0s 6ms/step - loss: 1.1470 - acc: 0.3333\n",
            "Epoch 3/50\n",
            "5/5 [==============================] - 0s 5ms/step - loss: 1.0302 - acc: 0.4200\n",
            "Epoch 4/50\n",
            "5/5 [==============================] - 0s 5ms/step - loss: 0.9608 - acc: 0.6667\n",
            "Epoch 5/50\n",
            "5/5 [==============================] - 0s 6ms/step - loss: 0.9142 - acc: 0.6667\n",
            "Epoch 6/50\n",
            "5/5 [==============================] - 0s 9ms/step - loss: 0.8776 - acc: 0.6800\n",
            "Epoch 7/50\n",
            "5/5 [==============================] - 0s 6ms/step - loss: 0.8492 - acc: 0.7867\n",
            "Epoch 8/50\n",
            "5/5 [==============================] - 0s 5ms/step - loss: 0.8220 - acc: 0.7133\n",
            "Epoch 9/50\n",
            "5/5 [==============================] - 0s 10ms/step - loss: 0.8033 - acc: 0.6800\n",
            "Epoch 10/50\n",
            "5/5 [==============================] - 0s 5ms/step - loss: 0.7751 - acc: 0.7533\n",
            "Epoch 11/50\n",
            "5/5 [==============================] - 0s 5ms/step - loss: 0.7491 - acc: 0.7133\n",
            "Epoch 12/50\n",
            "5/5 [==============================] - 0s 5ms/step - loss: 0.7232 - acc: 0.7800\n",
            "Epoch 13/50\n",
            "5/5 [==============================] - 0s 5ms/step - loss: 0.6986 - acc: 0.7800\n",
            "Epoch 14/50\n",
            "5/5 [==============================] - 0s 5ms/step - loss: 0.6812 - acc: 0.8267\n",
            "Epoch 15/50\n",
            "5/5 [==============================] - 0s 5ms/step - loss: 0.6623 - acc: 0.7800\n",
            "Epoch 16/50\n",
            "5/5 [==============================] - 0s 5ms/step - loss: 0.6444 - acc: 0.8800\n",
            "Epoch 17/50\n",
            "5/5 [==============================] - 0s 5ms/step - loss: 0.6273 - acc: 0.8467\n",
            "Epoch 18/50\n",
            "5/5 [==============================] - 0s 9ms/step - loss: 0.6118 - acc: 0.9133\n",
            "Epoch 19/50\n",
            "5/5 [==============================] - 0s 11ms/step - loss: 0.5952 - acc: 0.9133\n",
            "Epoch 20/50\n",
            "5/5 [==============================] - 0s 5ms/step - loss: 0.5825 - acc: 0.8667\n",
            "Epoch 21/50\n",
            "5/5 [==============================] - 0s 7ms/step - loss: 0.5688 - acc: 0.8400\n",
            "Epoch 22/50\n",
            "5/5 [==============================] - 0s 5ms/step - loss: 0.5525 - acc: 0.9067\n",
            "Epoch 23/50\n",
            "5/5 [==============================] - 0s 6ms/step - loss: 0.5451 - acc: 0.9000\n",
            "Epoch 24/50\n",
            "5/5 [==============================] - 0s 6ms/step - loss: 0.5274 - acc: 0.8867\n",
            "Epoch 25/50\n",
            "5/5 [==============================] - 0s 5ms/step - loss: 0.5193 - acc: 0.9533\n",
            "Epoch 26/50\n",
            "5/5 [==============================] - 0s 6ms/step - loss: 0.5065 - acc: 0.8667\n",
            "Epoch 27/50\n",
            "5/5 [==============================] - 0s 5ms/step - loss: 0.4951 - acc: 0.9067\n",
            "Epoch 28/50\n",
            "5/5 [==============================] - 0s 5ms/step - loss: 0.4855 - acc: 0.9400\n",
            "Epoch 29/50\n",
            "5/5 [==============================] - 0s 5ms/step - loss: 0.4757 - acc: 0.9400\n",
            "Epoch 30/50\n",
            "5/5 [==============================] - 0s 6ms/step - loss: 0.4648 - acc: 0.9400\n",
            "Epoch 31/50\n",
            "5/5 [==============================] - 0s 5ms/step - loss: 0.4550 - acc: 0.9467\n",
            "Epoch 32/50\n",
            "5/5 [==============================] - 0s 5ms/step - loss: 0.4465 - acc: 0.9333\n",
            "Epoch 33/50\n",
            "5/5 [==============================] - 0s 6ms/step - loss: 0.4379 - acc: 0.9267\n",
            "Epoch 34/50\n",
            "5/5 [==============================] - 0s 6ms/step - loss: 0.4321 - acc: 0.9733\n",
            "Epoch 35/50\n",
            "5/5 [==============================] - 0s 5ms/step - loss: 0.4210 - acc: 0.9600\n",
            "Epoch 36/50\n",
            "5/5 [==============================] - 0s 9ms/step - loss: 0.4138 - acc: 0.9533\n",
            "Epoch 37/50\n",
            "5/5 [==============================] - 0s 5ms/step - loss: 0.4075 - acc: 0.9733\n",
            "Epoch 38/50\n",
            "5/5 [==============================] - 0s 5ms/step - loss: 0.4012 - acc: 0.9533\n",
            "Epoch 39/50\n",
            "5/5 [==============================] - 0s 5ms/step - loss: 0.3973 - acc: 0.9533\n",
            "Epoch 40/50\n",
            "5/5 [==============================] - 0s 5ms/step - loss: 0.3876 - acc: 0.9533\n",
            "Epoch 41/50\n",
            "5/5 [==============================] - 0s 5ms/step - loss: 0.3810 - acc: 0.9800\n",
            "Epoch 42/50\n",
            "5/5 [==============================] - 0s 5ms/step - loss: 0.3752 - acc: 0.9667\n",
            "Epoch 43/50\n",
            "5/5 [==============================] - 0s 6ms/step - loss: 0.3716 - acc: 0.9667\n",
            "Epoch 44/50\n",
            "5/5 [==============================] - 0s 6ms/step - loss: 0.3622 - acc: 0.9733\n",
            "Epoch 45/50\n",
            "5/5 [==============================] - 0s 6ms/step - loss: 0.3565 - acc: 0.9667\n",
            "Epoch 46/50\n",
            "5/5 [==============================] - 0s 5ms/step - loss: 0.3507 - acc: 0.9800\n",
            "Epoch 47/50\n",
            "5/5 [==============================] - 0s 4ms/step - loss: 0.3506 - acc: 0.9667\n",
            "Epoch 48/50\n",
            "5/5 [==============================] - 0s 6ms/step - loss: 0.3412 - acc: 0.9600\n",
            "Epoch 49/50\n",
            "5/5 [==============================] - 0s 5ms/step - loss: 0.3384 - acc: 0.9533\n",
            "Epoch 50/50\n",
            "5/5 [==============================] - 0s 6ms/step - loss: 0.3332 - acc: 0.9600\n"
          ]
        },
        {
          "output_type": "execute_result",
          "data": {
            "text/plain": [
              "<keras.src.callbacks.History at 0x7ade01b2b760>"
            ]
          },
          "metadata": {},
          "execution_count": 15
        }
      ]
    },
    {
      "cell_type": "code",
      "source": [
        "model.fit(X,y,epochs = 5)"
      ],
      "metadata": {
        "colab": {
          "base_uri": "https://localhost:8080/"
        },
        "id": "LacXqMCDYX3z",
        "outputId": "d9de648c-2f58-4432-adf0-e3fc0938c27e"
      },
      "execution_count": 16,
      "outputs": [
        {
          "output_type": "stream",
          "name": "stdout",
          "text": [
            "Epoch 1/5\n",
            "5/5 [==============================] - 0s 5ms/step - loss: 0.3272 - acc: 0.9667\n",
            "Epoch 2/5\n",
            "5/5 [==============================] - 0s 7ms/step - loss: 0.3241 - acc: 0.9733\n",
            "Epoch 3/5\n",
            "5/5 [==============================] - 0s 6ms/step - loss: 0.3186 - acc: 0.9733\n",
            "Epoch 4/5\n",
            "5/5 [==============================] - 0s 7ms/step - loss: 0.3154 - acc: 0.9600\n",
            "Epoch 5/5\n",
            "5/5 [==============================] - 0s 8ms/step - loss: 0.3096 - acc: 0.9733\n"
          ]
        },
        {
          "output_type": "execute_result",
          "data": {
            "text/plain": [
              "<keras.src.callbacks.History at 0x7addf01b76a0>"
            ]
          },
          "metadata": {},
          "execution_count": 16
        }
      ]
    },
    {
      "cell_type": "code",
      "source": [
        "# save our model\n",
        "model.save('model.h5')"
      ],
      "metadata": {
        "colab": {
          "base_uri": "https://localhost:8080/"
        },
        "id": "EGtgy5SMYtUm",
        "outputId": "f477b799-c35c-4613-aa21-39ecd2fa21ed"
      },
      "execution_count": 17,
      "outputs": [
        {
          "output_type": "stream",
          "name": "stderr",
          "text": [
            "/usr/local/lib/python3.10/dist-packages/keras/src/engine/training.py:3079: UserWarning: You are saving your model as an HDF5 file via `model.save()`. This file format is considered legacy. We recommend using instead the native Keras format, e.g. `model.save('my_model.keras')`.\n",
            "  saving_api.save_model(\n"
          ]
        }
      ]
    },
    {
      "cell_type": "code",
      "source": [
        "# save our labels\n",
        "arr=[]\n",
        "for k in labels.keys():\n",
        "  arr.append(k)\n",
        "print(arr)\n",
        "print(labels)\n",
        "np.save('labels.npy',np.array(arr))"
      ],
      "metadata": {
        "colab": {
          "base_uri": "https://localhost:8080/"
        },
        "id": "AQTp3MueY2-W",
        "outputId": "cb22d3b9-2d37-448a-d2ee-8dc04af77c89"
      },
      "execution_count": 18,
      "outputs": [
        {
          "output_type": "stream",
          "name": "stdout",
          "text": [
            "['Iris-versicolor', 'Iris-setosa', 'Iris-virginica']\n",
            "{'Iris-versicolor': 0, 'Iris-setosa': 1, 'Iris-virginica': 2}\n"
          ]
        }
      ]
    },
    {
      "cell_type": "markdown",
      "source": [
        "#**Deployment our model using streamlit framework**"
      ],
      "metadata": {
        "id": "VzXRIDgnZbJS"
      }
    },
    {
      "cell_type": "code",
      "source": [
        "# code\n",
        "!pip install streamlit"
      ],
      "metadata": {
        "colab": {
          "base_uri": "https://localhost:8080/"
        },
        "id": "z1JUmk81d2h8",
        "outputId": "6b5ad93e-9b5c-40ee-f5b6-7d572a11b9b6"
      },
      "execution_count": 19,
      "outputs": [
        {
          "output_type": "stream",
          "name": "stdout",
          "text": [
            "Collecting streamlit\n",
            "  Downloading streamlit-1.27.2-py2.py3-none-any.whl (7.6 MB)\n",
            "\u001b[2K     \u001b[90m━━━━━━━━━━━━━━━━━━━━━━━━━━━━━━━━━━━━━━━━\u001b[0m \u001b[32m7.6/7.6 MB\u001b[0m \u001b[31m35.1 MB/s\u001b[0m eta \u001b[36m0:00:00\u001b[0m\n",
            "\u001b[?25hRequirement already satisfied: altair<6,>=4.0 in /usr/local/lib/python3.10/dist-packages (from streamlit) (4.2.2)\n",
            "Requirement already satisfied: blinker<2,>=1.0.0 in /usr/lib/python3/dist-packages (from streamlit) (1.4)\n",
            "Requirement already satisfied: cachetools<6,>=4.0 in /usr/local/lib/python3.10/dist-packages (from streamlit) (5.3.1)\n",
            "Requirement already satisfied: click<9,>=7.0 in /usr/local/lib/python3.10/dist-packages (from streamlit) (8.1.7)\n",
            "Requirement already satisfied: importlib-metadata<7,>=1.4 in /usr/local/lib/python3.10/dist-packages (from streamlit) (6.8.0)\n",
            "Requirement already satisfied: numpy<2,>=1.19.3 in /usr/local/lib/python3.10/dist-packages (from streamlit) (1.23.5)\n",
            "Requirement already satisfied: packaging<24,>=16.8 in /usr/local/lib/python3.10/dist-packages (from streamlit) (23.2)\n",
            "Requirement already satisfied: pandas<3,>=1.3.0 in /usr/local/lib/python3.10/dist-packages (from streamlit) (1.5.3)\n",
            "Requirement already satisfied: pillow<11,>=7.1.0 in /usr/local/lib/python3.10/dist-packages (from streamlit) (9.4.0)\n",
            "Requirement already satisfied: protobuf<5,>=3.20 in /usr/local/lib/python3.10/dist-packages (from streamlit) (3.20.3)\n",
            "Requirement already satisfied: pyarrow>=6.0 in /usr/local/lib/python3.10/dist-packages (from streamlit) (9.0.0)\n",
            "Requirement already satisfied: python-dateutil<3,>=2.7.3 in /usr/local/lib/python3.10/dist-packages (from streamlit) (2.8.2)\n",
            "Requirement already satisfied: requests<3,>=2.27 in /usr/local/lib/python3.10/dist-packages (from streamlit) (2.31.0)\n",
            "Requirement already satisfied: rich<14,>=10.14.0 in /usr/local/lib/python3.10/dist-packages (from streamlit) (13.6.0)\n",
            "Requirement already satisfied: tenacity<9,>=8.1.0 in /usr/local/lib/python3.10/dist-packages (from streamlit) (8.2.3)\n",
            "Requirement already satisfied: toml<2,>=0.10.1 in /usr/local/lib/python3.10/dist-packages (from streamlit) (0.10.2)\n",
            "Requirement already satisfied: typing-extensions<5,>=4.3.0 in /usr/local/lib/python3.10/dist-packages (from streamlit) (4.5.0)\n",
            "Requirement already satisfied: tzlocal<6,>=1.1 in /usr/local/lib/python3.10/dist-packages (from streamlit) (5.1)\n",
            "Collecting validators<1,>=0.2 (from streamlit)\n",
            "  Downloading validators-0.22.0-py3-none-any.whl (26 kB)\n",
            "Collecting gitpython!=3.1.19,<4,>=3.0.7 (from streamlit)\n",
            "  Downloading GitPython-3.1.40-py3-none-any.whl (190 kB)\n",
            "\u001b[2K     \u001b[90m━━━━━━━━━━━━━━━━━━━━━━━━━━━━━━━━━━━━━━━━\u001b[0m \u001b[32m190.6/190.6 kB\u001b[0m \u001b[31m23.5 MB/s\u001b[0m eta \u001b[36m0:00:00\u001b[0m\n",
            "\u001b[?25hCollecting pydeck<1,>=0.8.0b4 (from streamlit)\n",
            "  Downloading pydeck-0.8.1b0-py2.py3-none-any.whl (4.8 MB)\n",
            "\u001b[2K     \u001b[90m━━━━━━━━━━━━━━━━━━━━━━━━━━━━━━━━━━━━━━━━\u001b[0m \u001b[32m4.8/4.8 MB\u001b[0m \u001b[31m84.0 MB/s\u001b[0m eta \u001b[36m0:00:00\u001b[0m\n",
            "\u001b[?25hRequirement already satisfied: tornado<7,>=6.0.3 in /usr/local/lib/python3.10/dist-packages (from streamlit) (6.3.2)\n",
            "Collecting watchdog>=2.1.5 (from streamlit)\n",
            "  Downloading watchdog-3.0.0-py3-none-manylinux2014_x86_64.whl (82 kB)\n",
            "\u001b[2K     \u001b[90m━━━━━━━━━━━━━━━━━━━━━━━━━━━━━━━━━━━━━━━━\u001b[0m \u001b[32m82.1/82.1 kB\u001b[0m \u001b[31m11.9 MB/s\u001b[0m eta \u001b[36m0:00:00\u001b[0m\n",
            "\u001b[?25hRequirement already satisfied: entrypoints in /usr/local/lib/python3.10/dist-packages (from altair<6,>=4.0->streamlit) (0.4)\n",
            "Requirement already satisfied: jinja2 in /usr/local/lib/python3.10/dist-packages (from altair<6,>=4.0->streamlit) (3.1.2)\n",
            "Requirement already satisfied: jsonschema>=3.0 in /usr/local/lib/python3.10/dist-packages (from altair<6,>=4.0->streamlit) (4.19.1)\n",
            "Requirement already satisfied: toolz in /usr/local/lib/python3.10/dist-packages (from altair<6,>=4.0->streamlit) (0.12.0)\n",
            "Collecting gitdb<5,>=4.0.1 (from gitpython!=3.1.19,<4,>=3.0.7->streamlit)\n",
            "  Downloading gitdb-4.0.11-py3-none-any.whl (62 kB)\n",
            "\u001b[2K     \u001b[90m━━━━━━━━━━━━━━━━━━━━━━━━━━━━━━━━━━━━━━━━\u001b[0m \u001b[32m62.7/62.7 kB\u001b[0m \u001b[31m7.1 MB/s\u001b[0m eta \u001b[36m0:00:00\u001b[0m\n",
            "\u001b[?25hRequirement already satisfied: zipp>=0.5 in /usr/local/lib/python3.10/dist-packages (from importlib-metadata<7,>=1.4->streamlit) (3.17.0)\n",
            "Requirement already satisfied: pytz>=2020.1 in /usr/local/lib/python3.10/dist-packages (from pandas<3,>=1.3.0->streamlit) (2023.3.post1)\n",
            "Requirement already satisfied: six>=1.5 in /usr/local/lib/python3.10/dist-packages (from python-dateutil<3,>=2.7.3->streamlit) (1.16.0)\n",
            "Requirement already satisfied: charset-normalizer<4,>=2 in /usr/local/lib/python3.10/dist-packages (from requests<3,>=2.27->streamlit) (3.3.0)\n",
            "Requirement already satisfied: idna<4,>=2.5 in /usr/local/lib/python3.10/dist-packages (from requests<3,>=2.27->streamlit) (3.4)\n",
            "Requirement already satisfied: urllib3<3,>=1.21.1 in /usr/local/lib/python3.10/dist-packages (from requests<3,>=2.27->streamlit) (2.0.7)\n",
            "Requirement already satisfied: certifi>=2017.4.17 in /usr/local/lib/python3.10/dist-packages (from requests<3,>=2.27->streamlit) (2023.7.22)\n",
            "Requirement already satisfied: markdown-it-py>=2.2.0 in /usr/local/lib/python3.10/dist-packages (from rich<14,>=10.14.0->streamlit) (3.0.0)\n",
            "Requirement already satisfied: pygments<3.0.0,>=2.13.0 in /usr/local/lib/python3.10/dist-packages (from rich<14,>=10.14.0->streamlit) (2.16.1)\n",
            "Collecting smmap<6,>=3.0.1 (from gitdb<5,>=4.0.1->gitpython!=3.1.19,<4,>=3.0.7->streamlit)\n",
            "  Downloading smmap-5.0.1-py3-none-any.whl (24 kB)\n",
            "Requirement already satisfied: MarkupSafe>=2.0 in /usr/local/lib/python3.10/dist-packages (from jinja2->altair<6,>=4.0->streamlit) (2.1.3)\n",
            "Requirement already satisfied: attrs>=22.2.0 in /usr/local/lib/python3.10/dist-packages (from jsonschema>=3.0->altair<6,>=4.0->streamlit) (23.1.0)\n",
            "Requirement already satisfied: jsonschema-specifications>=2023.03.6 in /usr/local/lib/python3.10/dist-packages (from jsonschema>=3.0->altair<6,>=4.0->streamlit) (2023.7.1)\n",
            "Requirement already satisfied: referencing>=0.28.4 in /usr/local/lib/python3.10/dist-packages (from jsonschema>=3.0->altair<6,>=4.0->streamlit) (0.30.2)\n",
            "Requirement already satisfied: rpds-py>=0.7.1 in /usr/local/lib/python3.10/dist-packages (from jsonschema>=3.0->altair<6,>=4.0->streamlit) (0.10.6)\n",
            "Requirement already satisfied: mdurl~=0.1 in /usr/local/lib/python3.10/dist-packages (from markdown-it-py>=2.2.0->rich<14,>=10.14.0->streamlit) (0.1.2)\n",
            "Installing collected packages: watchdog, validators, smmap, pydeck, gitdb, gitpython, streamlit\n",
            "Successfully installed gitdb-4.0.11 gitpython-3.1.40 pydeck-0.8.1b0 smmap-5.0.1 streamlit-1.27.2 validators-0.22.0 watchdog-3.0.0\n"
          ]
        }
      ]
    },
    {
      "cell_type": "code",
      "source": [
        "!npx install -g localtunnel"
      ],
      "metadata": {
        "colab": {
          "base_uri": "https://localhost:8080/"
        },
        "id": "_PN2jlZNZ4hU",
        "outputId": "12d292f0-ca34-44bd-b262-0d7629fb2a69"
      },
      "execution_count": 20,
      "outputs": [
        {
          "output_type": "stream",
          "name": "stdout",
          "text": [
            "install: missing file operand\n",
            "Try 'install --help' for more information.\n"
          ]
        }
      ]
    },
    {
      "cell_type": "code",
      "source": [
        "# Write a python file in colab\n",
        "#code\n",
        "%%writefile app_image.py\n",
        "import streamlit as st\n",
        "from keras.models import load_model\n",
        "import numpy as np\n",
        "############################\n",
        "# Load our model\n",
        "model = load_model('/content/model.h5')\n",
        "# load our labels\n",
        "labels = np.load('/content/labels.npy')\n",
        "#########################\n",
        "# Streamlit app\n",
        "st.title('Welcome to Flower Predictio Web App')\n",
        "a = float(st.number_input('sepal_length in cm',key = 'a'))\n",
        "b = float(st.number_input('sepal_width in cm',key = 'b'))\n",
        "c = float(st.number_input('petal_length in cm',key = 'c'))\n",
        "d = float(st.number_input('sepal_width in cm',key ='d'))\n",
        "\n",
        "# Creat a button\n",
        "btn = st.button('Predict')\n",
        "\n",
        "if btn:\n",
        "    pred = model.predict(np.array([a,b,c,d]).reshape(1,-1))\n",
        "    #print(pred)\n",
        "    #print(np.argmax(pred))\n",
        "    pred = labels[np.argmax(pred)] # convert string to particular class\n",
        "    #print(pred)\n",
        "    st.subheader(pred)\n",
        "    if pred =='Iris Setosa':\n",
        "        st.image('/content/drive/MyDrive/iris_image/setosa.jpg')\n",
        "    elif pred == 'Iris Versicolour':\n",
        "        st.image('/content/drive/MyDrive/iris_image/versicolor.jpg')\n",
        "    else:\n",
        "        st.image('/content/drive/MyDrive/iris_image/verginca.jpg')\n",
        "\n"
      ],
      "metadata": {
        "colab": {
          "base_uri": "https://localhost:8080/"
        },
        "id": "4WDXkC7rZRNm",
        "outputId": "13a0c001-3301-4504-facf-eb937ab1f657"
      },
      "execution_count": 31,
      "outputs": [
        {
          "output_type": "stream",
          "name": "stdout",
          "text": [
            "Overwriting app_image.py\n"
          ]
        }
      ]
    },
    {
      "cell_type": "code",
      "source": [
        "# to get the end point\n",
        "# To get the endpoont IP\n",
        "!wget -q -O - ipv4.icanhazip.com"
      ],
      "metadata": {
        "colab": {
          "base_uri": "https://localhost:8080/"
        },
        "id": "o101hAEbdTCT",
        "outputId": "d27bdf40-2161-43c4-c4c9-faaff33c7003"
      },
      "execution_count": 22,
      "outputs": [
        {
          "output_type": "stream",
          "name": "stdout",
          "text": [
            "34.172.218.236\n"
          ]
        }
      ]
    },
    {
      "cell_type": "code",
      "source": [
        "# Runn the stremlit app\n",
        "# Code\n",
        "!streamlit run app_image.py & npx localtunnel --port 8501"
      ],
      "metadata": {
        "colab": {
          "base_uri": "https://localhost:8080/"
        },
        "id": "NR1FXl5gdFSl",
        "outputId": "0c36729e-b3df-48da-aaf5-35e6ced1772a"
      },
      "execution_count": 32,
      "outputs": [
        {
          "output_type": "stream",
          "name": "stdout",
          "text": [
            "\u001b[?25l[..................] / rollbackFailedOptional: verb npm-session f7e2c819d9aa397\u001b[0m\u001b[K\r[..................] / rollbackFailedOptional: verb npm-session f7e2c819d9aa397\u001b[0m\u001b[K\r[..................] / rollbackFailedOptional: verb npm-session f7e2c819d9aa397\u001b[0m\u001b[K\r\n",
            "Collecting usage statistics. To deactivate, set browser.gatherUsageStats to False.\n",
            "\u001b[0m\n",
            "\u001b[0m\n",
            "\u001b[34m\u001b[1m  You can now view your Streamlit app in your browser.\u001b[0m\n",
            "\u001b[0m\n",
            "\u001b[34m  Network URL: \u001b[0m\u001b[1mhttp://172.28.0.12:8501\u001b[0m\n",
            "\u001b[34m  External URL: \u001b[0m\u001b[1mhttp://34.172.218.236:8501\u001b[0m\n",
            "\u001b[0m\n",
            "\u001b[K\u001b[?25hnpx: installed 22 in 2.249s\n",
            "your url is: https://solid-kings-tickle.loca.lt\n",
            "2023-10-26 11:00:48.420216: E tensorflow/compiler/xla/stream_executor/cuda/cuda_dnn.cc:9342] Unable to register cuDNN factory: Attempting to register factory for plugin cuDNN when one has already been registered\n",
            "2023-10-26 11:00:48.420273: E tensorflow/compiler/xla/stream_executor/cuda/cuda_fft.cc:609] Unable to register cuFFT factory: Attempting to register factory for plugin cuFFT when one has already been registered\n",
            "2023-10-26 11:00:48.420324: E tensorflow/compiler/xla/stream_executor/cuda/cuda_blas.cc:1518] Unable to register cuBLAS factory: Attempting to register factory for plugin cuBLAS when one has already been registered\n",
            "2023-10-26 11:00:49.435761: W tensorflow/compiler/tf2tensorrt/utils/py_utils.cc:38] TF-TRT Warning: Could not find TensorRT\n",
            "2023-10-26 11:00:51.684222: W tensorflow/core/common_runtime/gpu/gpu_bfc_allocator.cc:47] Overriding orig_value setting because the TF_FORCE_GPU_ALLOW_GROWTH environment variable is set. Original config value was 0.\n",
            "1/1 [==============================] - 1s 1s/step\n",
            "\u001b[34m  Stopping...\u001b[0m\n",
            "^C\n"
          ]
        }
      ]
    }
  ]
}